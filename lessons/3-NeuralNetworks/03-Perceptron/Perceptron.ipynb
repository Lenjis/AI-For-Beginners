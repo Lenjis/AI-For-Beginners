{
 "cells": [
  {
   "cell_type": "markdown",
   "metadata": {
    "collapsed": true,
    "slideshow": {
     "slide_type": "slide"
    }
   },
   "source": [
    "## Perceptron\n",
    "\n",
    "> This notebook is a part of [AI for Beginners Curricula](http://github.com/microsoft/ai-for-beginners). Visit the repository for complete set of learning materials.\n",
    "\n",
    "As we have discussed, perceptron allows you to solve **binary classification problem**, i.e. to classify input examples into two classes - we can call them **positive** and **negative**.\n",
    "\n",
    "First, let's import some required libraries."
   ]
  },
  {
   "cell_type": "code",
   "execution_count": 5,
   "metadata": {},
   "outputs": [],
   "source": [
    "import random\n",
    "import pylab\n",
    "from matplotlib import gridspec\n",
    "from sklearn.datasets import make_classification\n",
    "import numpy as np\n",
    "from ipywidgets import interact, interactive, fixed\n",
    "import ipywidgets as widgets\n",
    "import pickle\n",
    "import os\n",
    "import gzip\n",
    "\n",
    "# pick the seed for reproducability - change it to explore the effects of random variations\n",
    "np.random.seed(1)"
   ]
  },
  {
   "cell_type": "markdown",
   "metadata": {
    "slideshow": {
     "slide_type": "slide"
    }
   },
   "source": [
    "## Toy Problem\n",
    "\n",
    "To begin with, let's start with a toy problem, where we have two input features. For example, in medicine we may want to classify tumours into benign and malignant, depending on its size and age.\n",
    "\n",
    "We will generate a random classification dataset using `make_classification` function from SciKit Learn library:"
   ]
  },
  {
   "cell_type": "code",
   "execution_count": 1,
   "metadata": {
    "slideshow": {
     "slide_type": "slide"
    }
   },
   "outputs": [
    {
     "ename": "NameError",
     "evalue": "name 'make_classification' is not defined",
     "output_type": "error",
     "traceback": [
      "\u001b[0;31m---------------------------------------------------------------------------\u001b[0m",
      "\u001b[0;31mNameError\u001b[0m                                 Traceback (most recent call last)",
      "Cell \u001b[0;32mIn[1], line 2\u001b[0m\n\u001b[1;32m      1\u001b[0m n \u001b[38;5;241m=\u001b[39m \u001b[38;5;241m50\u001b[39m\n\u001b[0;32m----> 2\u001b[0m X, Y \u001b[38;5;241m=\u001b[39m \u001b[43mmake_classification\u001b[49m(n_samples\u001b[38;5;241m=\u001b[39mn, n_features\u001b[38;5;241m=\u001b[39m\u001b[38;5;241m2\u001b[39m,\n\u001b[1;32m      3\u001b[0m                            n_redundant\u001b[38;5;241m=\u001b[39m\u001b[38;5;241m0\u001b[39m, n_informative\u001b[38;5;241m=\u001b[39m\u001b[38;5;241m2\u001b[39m, flip_y\u001b[38;5;241m=\u001b[39m\u001b[38;5;241m0\u001b[39m)\n",
      "\u001b[0;31mNameError\u001b[0m: name 'make_classification' is not defined"
     ]
    }
   ],
   "source": [
    "n = 50\n",
    "X, Y = make_classification(n_samples=n, n_features=2,\n",
    "                           n_redundant=0, n_informative=2, flip_y=0)\n",
    "# Y = Y*2-1  # convert initial 0/1 values into -1/1\n",
    "# X = X.astype(np.float32)\n",
    "# Y = Y.astype(np.int32)  # features - float, label - int\n",
    "\n",
    "# # Split the dataset into training and test\n",
    "# train_x, test_x = np.split(X, [n*8//10])  # 80% training, 20% test\n",
    "# train_labels, test_labels = np.split(Y, [n*8//10])\n",
    "# print(\"Features:\\n\", train_x[0:4])\n",
    "# print(\"Labels:\\n\", train_labels[0:4])"
   ]
  },
  {
   "cell_type": "markdown",
   "metadata": {},
   "source": [
    "Let's also plot the dataset:"
   ]
  },
  {
   "cell_type": "code",
   "execution_count": null,
   "metadata": {
    "slideshow": {
     "slide_type": "skip"
    }
   },
   "outputs": [],
   "source": [
    "def plot_dataset(suptitle, features, labels):\n",
    "    # prepare the plot\n",
    "    fig, ax = pylab.subplots(1, 1)\n",
    "    pylab.subplots_adjust(bottom=0.2, wspace=0.4)\n",
    "    fig.suptitle(suptitle, fontsize = 16)\n",
    "    ax.set_xlabel('$x_i[0]$ -- (feature 1)')\n",
    "    ax.set_ylabel('$x_i[1]$ -- (feature 2)')\n",
    "\n",
    "    colors = ['r' if l>0 else 'b' for l in labels]\n",
    "    ax.scatter(features[:, 0], features[:, 1], marker='o', c=colors, s=100, alpha = 0.5)\n",
    "    fig.show()\n",
    "\n",
    "plot_dataset('Training data', train_x, train_labels)"
   ]
  },
  {
   "cell_type": "markdown",
   "metadata": {
    "slideshow": {
     "slide_type": "slide"
    }
   },
   "source": [
    "## Perceptron\n",
    "\n",
    "Since perceptron is a binary classifier, for each input vector $x$ the output of our perceptron would be either +1 or -1, depending on the class. The output will be computed using the formula\n",
    "\n",
    "$$y(\\mathbf{x}) = f(\\mathbf{w}^{\\mathrm{T}}\\mathbf{x})$$\n",
    "\n",
    "where $\\mathbf{w}$ is a weight vector, $f$ is a step activation function:\n",
    "$$\n",
    "f(x) = \\begin{cases}\n",
    "         +1 & x \\geq 0 \\\\\n",
    "         -1 & x < 0\n",
    "       \\end{cases} \\\\\n",
    "$$\n",
    "\n",
    "However, a generic linear model should also have a bias, i.e. ideally we should compute $y$ as $y=f(\\mathbf{w}^{\\mathrm{T}}\\mathbf{x}+\\mathbf{b})$. To simplify our model, we can get rid of this bias term by adding one more dimension to our input features, which always equals to 1:"
   ]
  },
  {
   "cell_type": "code",
   "execution_count": null,
   "metadata": {
    "slideshow": {
     "slide_type": "slide"
    }
   },
   "outputs": [
    {
     "name": "stdout",
     "output_type": "stream",
     "text": [
      "[[ 0.92180622  0.91789985  1.        ]\n",
      " [-1.06435513  1.49764717  1.        ]\n",
      " [ 0.32839951  2.25677919  1.        ]\n",
      " [-0.1901916   1.79802263  1.        ]\n",
      " [-1.49693227  0.7931335   1.        ]\n",
      " [ 0.98437256  0.65941876  1.        ]\n",
      " [-0.3333734   2.13972139  1.        ]\n",
      " [-0.72858989  1.80336595  1.        ]\n",
      " [-1.46642566 -0.76878458  1.        ]\n",
      " [-1.33200002  1.63485861  1.        ]]\n"
     ]
    }
   ],
   "source": [
    "pos_examples = np.array([[t[0], t[1], 1] for i, t in enumerate(train_x)\n",
    "                         if train_labels[i] > 0])\n",
    "neg_examples = np.array([[t[0], t[1], 1] for i, t in enumerate(train_x)\n",
    "                         if train_labels[i] < 0])\n",
    "print(pos_examples[0:10])"
   ]
  },
  {
   "cell_type": "markdown",
   "metadata": {
    "slideshow": {
     "slide_type": "slide"
    }
   },
   "source": [
    "## Training Algorithm\n",
    "\n",
    "In order to train the perceptron, we need to find out weights $\\mathbf{w}$ that will minimize the error. The error is defined using **perceptron criteria**:\n",
    "\n",
    "$$E(\\mathbf{w}) = -\\sum_{n \\in \\mathcal{M}}\\mathbf{w}^{\\mathrm{T}}\\mathbf{x}_{n}t_{n}$$\n",
    " \n",
    "  * $t_{n} \\in \\{-1, +1\\}$ for negative and positive training samples, respectively\n",
    "  * $\\mathcal{M}$ - a set of wrongly classified examples\n",
    "  \n",
    "We will use the process of **gradient descent**. Starting with some initial random weights $\\mathbf{w}^{(0)}$, we will adjust weights on each step of the training using the gradient of $E$:\n",
    "\n",
    "$$\\mathbf{w}^{\\tau + 1}=\\mathbf{w}^{\\tau} - \\eta \\nabla E(\\mathbf{w}) = \\mathbf{w}^{\\tau} + \\eta\\sum_{n \\in \\mathcal{M}}\\mathbf{x}_{n} t_{n}$$\n",
    "\n",
    "where $\\eta$ is a **learning rate**, and $\\tau\\in\\mathbb{N}$ - number of iteration.\n",
    "\n",
    "Let's define this algorithm in Python:"
   ]
  },
  {
   "cell_type": "code",
   "execution_count": null,
   "metadata": {
    "slideshow": {
     "slide_type": "skip"
    }
   },
   "outputs": [],
   "source": [
    "def train(positive_examples, negative_examples, num_iterations = 100):\n",
    "    num_dims = positive_examples.shape[1]\n",
    "    \n",
    "    # Initialize weights. \n",
    "    # We initialize with 0 for simplicity, but random initialization is also a good idea\n",
    "    weights = np.zeros((num_dims,1)) \n",
    "    \n",
    "    pos_count = positive_examples.shape[0]\n",
    "    neg_count = negative_examples.shape[0]\n",
    "    \n",
    "    report_frequency = 10\n",
    "    \n",
    "    for i in range(num_iterations):\n",
    "        # Pick one positive and one negative example\n",
    "        pos = random.choice(positive_examples)\n",
    "        neg = random.choice(negative_examples)\n",
    "\n",
    "        z = np.dot(pos, weights)   \n",
    "        if z < 0: # positive example was classified as negative\n",
    "            weights = weights + pos.reshape(weights.shape)\n",
    "\n",
    "        z  = np.dot(neg, weights)\n",
    "        if z >= 0: # negative example was classified as positive\n",
    "            weights = weights - neg.reshape(weights.shape)\n",
    "            \n",
    "        # Periodically, print out the current accuracy on all examples \n",
    "        if i % report_frequency == 0:             \n",
    "            pos_out = np.dot(positive_examples, weights)\n",
    "            neg_out = np.dot(negative_examples, weights)        \n",
    "            pos_correct = (pos_out >= 0).sum() / float(pos_count)\n",
    "            neg_correct = (neg_out < 0).sum() / float(neg_count)\n",
    "            print(\"Iteration={}, pos correct={}, neg correct={}\".format(i,pos_correct,neg_correct))\n",
    "\n",
    "    return weights"
   ]
  },
  {
   "cell_type": "markdown",
   "metadata": {},
   "source": [
    "Now let's run the training on our dataset:"
   ]
  },
  {
   "cell_type": "code",
   "execution_count": null,
   "metadata": {
    "slideshow": {
     "slide_type": "slide"
    }
   },
   "outputs": [
    {
     "name": "stdout",
     "output_type": "stream",
     "text": [
      "Iteration=0, pos correct=0.631578947368421, neg correct=1.0\n",
      "Iteration=10, pos correct=0.631578947368421, neg correct=1.0\n",
      "Iteration=20, pos correct=0.7894736842105263, neg correct=0.8095238095238095\n",
      "Iteration=30, pos correct=1.0, neg correct=0.9047619047619048\n",
      "Iteration=40, pos correct=1.0, neg correct=0.9047619047619048\n",
      "Iteration=50, pos correct=1.0, neg correct=0.9047619047619048\n",
      "Iteration=60, pos correct=1.0, neg correct=0.9047619047619048\n",
      "Iteration=70, pos correct=1.0, neg correct=0.9047619047619048\n",
      "Iteration=80, pos correct=0.8947368421052632, neg correct=0.9047619047619048\n",
      "Iteration=90, pos correct=0.9473684210526315, neg correct=0.9523809523809523\n",
      "[[-0.67305503  4.36878938  2.        ]]\n"
     ]
    }
   ],
   "source": [
    "wts = train(pos_examples,neg_examples)\n",
    "print(wts.transpose())"
   ]
  },
  {
   "cell_type": "markdown",
   "metadata": {},
   "source": [
    "As you can see, initial accuracy is around 50%, but it quickly increases to higher values close to 90%.\n",
    "\n",
    "Let's visualize how classes are separated. Our classification function looks like $\\mathbf{w}^Tx$, and it is greater than 0 for one class, and is below 0 for another. Thus, class separation line is defined by $\\mathbf{w}^Tx = 0$. Since we have only two dimensions $x_0$ and $x_1$, the equation for the line would be $w_0x_0+w_1x_1+w_2 = 0$ (remember that we have explicitly defined an extra dimension $x_2=1$). Let's plot this line:"
   ]
  },
  {
   "cell_type": "code",
   "execution_count": null,
   "metadata": {
    "slideshow": {
     "slide_type": "skip"
    }
   },
   "outputs": [],
   "source": [
    "def plot_boundary(positive_examples, negative_examples, weights):\n",
    "    if np.isclose(weights[1], 0):\n",
    "        if np.isclose(weights[0], 0):\n",
    "            x = y = np.array([-6, 6], dtype = 'float32')\n",
    "        else:\n",
    "            y = np.array([-6, 6], dtype='float32')\n",
    "            x = -(weights[1] * y + weights[2])/weights[0]\n",
    "    else:\n",
    "        x = np.array([-6, 6], dtype='float32')\n",
    "        y = -(weights[0] * x + weights[2])/weights[1]\n",
    "\n",
    "    pylab.xlim(-6, 6)\n",
    "    pylab.ylim(-6, 6)                      \n",
    "    pylab.plot(positive_examples[:,0], positive_examples[:,1], 'bo')\n",
    "    pylab.plot(negative_examples[:,0], negative_examples[:,1], 'ro')\n",
    "    pylab.plot(x, y, 'g', linewidth=2.0)\n",
    "    pylab.show()"
   ]
  },
  {
   "cell_type": "code",
   "execution_count": null,
   "metadata": {
    "slideshow": {
     "slide_type": "slide"
    }
   },
   "outputs": [
    {
     "data": {
      "image/png": "[encoded data removed]",
      "text/plain": [
       "<Figure size 640x480 with 1 Axes>"
      ]
     },
     "metadata": {},
     "output_type": "display_data"
    }
   ],
   "source": [
    "plot_boundary(pos_examples,neg_examples,wts)"
   ]
  },
  {
   "cell_type": "markdown",
   "metadata": {
    "slideshow": {
     "slide_type": "slide"
    }
   },
   "source": [
    "## Evaluate on Test Dataset\n",
    "\n",
    "In the beginning, we have put apart some data to the test dataset. Let's see how accurate our classifier is on this test dataset. In order to do this, we also expand the test dataset with an extra dimension, multiply by weights matrix, and make sure that the obtained value is of the same sign as the label (+1 or -1). We then add together all boolean values and divide by the length of test sample, to obtain the accuracy:"
   ]
  },
  {
   "cell_type": "code",
   "execution_count": null,
   "metadata": {
    "slideshow": {
     "slide_type": "fragment"
    }
   },
   "outputs": [
    {
     "data": {
      "text/plain": [
       "1.0"
      ]
     },
     "execution_count": 20,
     "metadata": {},
     "output_type": "execute_result"
    }
   ],
   "source": [
    "def accuracy(weights, test_x, test_labels):\n",
    "    res = np.dot(np.c_[test_x, np.ones(len(test_x))], weights)\n",
    "    return (res.reshape(test_labels.shape)*test_labels >= 0).sum()/float(len(test_labels))\n",
    "\n",
    "\n",
    "accuracy(wts, test_x, test_labels)"
   ]
  },
  {
   "cell_type": "markdown",
   "metadata": {
    "slideshow": {
     "slide_type": "slide"
    }
   },
   "source": [
    "## Observing the training process\n",
    "\n",
    "We have seen before how the accuracy decreases during training. It would be nice to see how the separation line behaves during training. The code below will visualize everything on one graph, and you should be able to move the slider to \"time-travel\" through the training process. "
   ]
  },
  {
   "cell_type": "code",
   "execution_count": 27,
   "metadata": {
    "slideshow": {
     "slide_type": "skip"
    }
   },
   "outputs": [
    {
     "name": "stdout",
     "output_type": "stream",
     "text": [
      "num_dims 3\n",
      "neg_correct 0.9047619047619048\n",
      "neg_correct 0.9047619047619048\n",
      "neg_correct 0.9047619047619048\n",
      "neg_correct 0.2857142857142857\n",
      "neg_correct 0.7142857142857143\n",
      "neg_correct 0.7142857142857143\n",
      "neg_correct 0.7142857142857143\n",
      "neg_correct 0.7142857142857143\n",
      "neg_correct 0.9523809523809523\n",
      "neg_correct 0.9523809523809523\n",
      "neg_correct 0.9523809523809523\n",
      "neg_correct 0.9523809523809523\n",
      "neg_correct 0.9523809523809523\n",
      "neg_correct 0.8095238095238095\n",
      "neg_correct 0.8095238095238095\n",
      "neg_correct 0.8095238095238095\n",
      "neg_correct 0.8571428571428571\n",
      "neg_correct 0.8571428571428571\n",
      "neg_correct 0.8571428571428571\n",
      "neg_correct 0.8571428571428571\n",
      "neg_correct 0.9523809523809523\n",
      "neg_correct 1.0\n",
      "neg_correct 0.5238095238095238\n",
      "neg_correct 0.9523809523809523\n",
      "neg_correct 0.9523809523809523\n",
      "neg_correct 0.9523809523809523\n",
      "neg_correct 0.9047619047619048\n",
      "neg_correct 0.9047619047619048\n",
      "neg_correct 0.9523809523809523\n",
      "neg_correct 0.9523809523809523\n",
      "neg_correct 0.9523809523809523\n",
      "neg_correct 0.9523809523809523\n",
      "neg_correct 0.9523809523809523\n",
      "neg_correct 0.9523809523809523\n",
      "neg_correct 0.9523809523809523\n",
      "neg_correct 0.9523809523809523\n",
      "neg_correct 0.9523809523809523\n",
      "neg_correct 0.9523809523809523\n",
      "neg_correct 0.9523809523809523\n",
      "neg_correct 0.9523809523809523\n",
      "neg_correct 0.9523809523809523\n",
      "neg_correct 0.9523809523809523\n",
      "neg_correct 0.9523809523809523\n",
      "neg_correct 0.9523809523809523\n",
      "neg_correct 0.9523809523809523\n",
      "neg_correct 0.9523809523809523\n",
      "neg_correct 0.9523809523809523\n",
      "neg_correct 0.9523809523809523\n",
      "neg_correct 0.9523809523809523\n",
      "neg_correct 0.9523809523809523\n",
      "neg_correct 0.9523809523809523\n",
      "neg_correct 0.9523809523809523\n",
      "neg_correct 0.9523809523809523\n",
      "neg_correct 0.9523809523809523\n",
      "neg_correct 0.9047619047619048\n",
      "neg_correct 0.9047619047619048\n",
      "neg_correct 0.9047619047619048\n",
      "neg_correct 0.9047619047619048\n",
      "neg_correct 0.9047619047619048\n",
      "neg_correct 0.9523809523809523\n",
      "neg_correct 0.9523809523809523\n",
      "neg_correct 0.9523809523809523\n",
      "neg_correct 0.9523809523809523\n",
      "neg_correct 0.9523809523809523\n",
      "neg_correct 0.9523809523809523\n",
      "neg_correct 0.9523809523809523\n",
      "neg_correct 0.9523809523809523\n",
      "neg_correct 0.9523809523809523\n",
      "neg_correct 0.9523809523809523\n",
      "neg_correct 0.9523809523809523\n",
      "neg_correct 0.9523809523809523\n",
      "neg_correct 0.9523809523809523\n",
      "neg_correct 0.9523809523809523\n",
      "neg_correct 0.9523809523809523\n",
      "neg_correct 0.9523809523809523\n",
      "neg_correct 0.9523809523809523\n",
      "neg_correct 0.9523809523809523\n",
      "neg_correct 0.9523809523809523\n",
      "neg_correct 0.9523809523809523\n",
      "neg_correct 0.9523809523809523\n",
      "neg_correct 0.9523809523809523\n",
      "neg_correct 0.9523809523809523\n",
      "neg_correct 0.9523809523809523\n",
      "neg_correct 0.9523809523809523\n",
      "neg_correct 0.9523809523809523\n",
      "neg_correct 0.9523809523809523\n",
      "neg_correct 0.9523809523809523\n",
      "neg_correct 0.9523809523809523\n",
      "neg_correct 0.8571428571428571\n",
      "neg_correct 0.9523809523809523\n",
      "neg_correct 0.9523809523809523\n",
      "neg_correct 0.9523809523809523\n",
      "neg_correct 0.9047619047619048\n",
      "neg_correct 0.9047619047619048\n",
      "neg_correct 0.9047619047619048\n",
      "neg_correct 0.9047619047619048\n",
      "neg_correct 0.9047619047619048\n",
      "neg_correct 0.9047619047619048\n",
      "neg_correct 0.9047619047619048\n",
      "neg_correct 0.9523809523809523\n"
     ]
    }
   ],
   "source": [
    "def train_graph(positive_examples, negative_examples, num_iterations = 100):\n",
    "    num_dims = positive_examples.shape[1]\n",
    "    print(\"num_dims\", num_dims)\n",
    "    weights = np.zeros((num_dims,1)) # initialize weights\n",
    "    \n",
    "    pos_count = positive_examples.shape[0]\n",
    "    neg_count = negative_examples.shape[0]\n",
    "    \n",
    "    \n",
    "    report_frequency = 1;\n",
    "    snapshots = []\n",
    "    \n",
    "    for i in range(num_iterations):\n",
    "        pos = random.choice(positive_examples)\n",
    "        neg = random.choice(negative_examples)\n",
    "\n",
    "        z = np.dot(pos, weights)   \n",
    "        if z < 0:\n",
    "            weights = weights + pos.reshape(weights.shape)\n",
    "\n",
    "        z  = np.dot(neg, weights)\n",
    "        if z >= 0:\n",
    "            weights = weights - neg.reshape(weights.shape)\n",
    "            \n",
    "        if i % report_frequency == 0:             \n",
    "            pos_out = np.dot(positive_examples, weights)\n",
    "            neg_out = np.dot(negative_examples, weights)        \n",
    "            pos_correct = (pos_out >= 0).sum() / float(pos_count)\n",
    "            neg_correct = (neg_out < 0).sum() / float(neg_count)\n",
    "            print(\"neg_correct\", neg_correct)\n",
    "            # make correction a list so it is homogeneous to weights list then numpy array accepts\n",
    "            snapshots.append((np.concatenate(weights),[(pos_correct+neg_correct)/2.0,0,0]))\n",
    "\n",
    "    return np.array(snapshots)\n",
    "\n",
    "snapshots = train_graph(pos_examples,neg_examples)\n",
    "\n",
    "def plotit(pos_examples,neg_examples,snapshots,step):\n",
    "    fig = pylab.figure(figsize=(10,4))\n",
    "    fig.add_subplot(1, 2, 1)\n",
    "    plot_boundary(pos_examples, neg_examples, snapshots[step][0])\n",
    "    fig.add_subplot(1, 2, 2)\n",
    "    pylab.plot(np.arange(len(snapshots[:,1])), snapshots[:,1])\n",
    "    pylab.ylabel('Accuracy')\n",
    "    pylab.xlabel('Iteration')\n",
    "    pylab.plot(step, snapshots[step,1][0], \"bo\")\n",
    "    pylab.show()\n",
    "def pl1(step): plotit(pos_examples,neg_examples,snapshots,step)"
   ]
  },
  {
   "cell_type": "code",
   "execution_count": 25,
   "metadata": {
    "slideshow": {
     "slide_type": "slide"
    }
   },
   "outputs": [
    {
     "data": {
      "application/vnd.jupyter.widget-view+json": {
       "model_id": "c918c754c7f94be0a2209337d67c8435",
       "version_major": 2,
       "version_minor": 0
      },
      "text/plain": [
       "interactive(children=(IntSlider(value=0, description='step', max=99), Output()), _dom_classes=('widget-interac…"
      ]
     },
     "metadata": {},
     "output_type": "display_data"
    },
    {
     "data": {
      "text/plain": [
       "<function __main__.pl1(step)>"
      ]
     },
     "execution_count": 25,
     "metadata": {},
     "output_type": "execute_result"
    }
   ],
   "source": [
    "interact(pl1, step=widgets.IntSlider(value=0, min=0, max=len(snapshots)-1))"
   ]
  },
  {
   "cell_type": "markdown",
   "metadata": {
    "slideshow": {
     "slide_type": "slide"
    }
   },
   "source": [
    "## Limitations of the Perceptron\n",
    "\n",
    "As you have seen above, perceptron is a **linear classifier**. It can distinguish between two classes well if they are **linearly separable**, i.e. can be separated by a straight line. Otherwise, perceptron training process will not converge.\n",
    "\n",
    "A most obvious example of a problem that cannot be solved by a perceptron is so-called **XOR problem**. We want our perceptron to learn the XOR boolean function, which has the following truth table:\n",
    "\n",
    "|   | 0 | 1 |\n",
    "|---|---|---|\n",
    "| 0 | 0 | 1 | \n",
    "| 1 | 1 | 0 |\n",
    "\n",
    "Let's try and do that! We will manually populate all positive and negative training samples, and then call our train function defined above:"
   ]
  },
  {
   "cell_type": "code",
   "execution_count": null,
   "metadata": {
    "slideshow": {
     "slide_type": "slide"
    }
   },
   "outputs": [],
   "source": [
    "pos_examples_xor = np.array([[1,0,1],[0,1,1]])\n",
    "neg_examples_xor = np.array([[1,1,1],[0,0,1]])\n",
    "\n",
    "snapshots_xor = train_graph(pos_examples_xor,neg_examples_xor,1000)\n",
    "def pl2(step): plotit(pos_examples_xor,neg_examples_xor,snapshots_xor,step)"
   ]
  },
  {
   "cell_type": "code",
   "execution_count": null,
   "metadata": {
    "slideshow": {
     "slide_type": "slide"
    }
   },
   "outputs": [],
   "source": [
    "interact(pl2, step=widgets.IntSlider(value=0, min=0, max=len(snapshots)-1))"
   ]
  },
  {
   "cell_type": "markdown",
   "metadata": {
    "collapsed": true,
    "slideshow": {
     "slide_type": "slide"
    }
   },
   "source": [
    "As you can see from the graph above, the accuracy never goes above 75%, because it is impossible to draw a straight line in such a way as to get all possible examples right.\n",
    "\n",
    "The XOR problem is a classical example of perceptron limitations, and it was pointed out by Marvin Minsky and Seymour Papert in 1969 in their book [Perceptrons](https://en.wikipedia.org/wiki/Perceptrons_(book)). This observation limited research in the area of neural networks for almost 10 years, even though - and we will see this in the next section of our course - multi-layered perceptrons are perfectly capable of solving such problems.\n",
    "\n",
    "## Complex Example - MNIST\n",
    "\n",
    "Even though perceptron cannot solve XOR problem, it can solve many more complex problems, such as handwritten character recognition.\n",
    "\n",
    "A dataset that is often used when mastering machine learning is called [MNIST](https://en.wikipedia.org/wiki/MNIST_database). It has been created by Modified National Institute of Standards and Technology, and contains a training set of 60000 handwritten digits, collected from around 250 students and employees of the institute. There is also a test dataset of 10000 digits, collected from different individuals.\n",
    "\n",
    "All digits are represented by grayscale images of size 28x28 pixels.\n",
    "\n",
    "> MNIST Dataset is available as a training competition on [Kaggle](https://www.kaggle.com/c/digit-recognizer), a site that hosts machine learning competitions and contests. Once you learn how to classify MNIST digits, you can submit your solution to Kaggle to see how it is rated among other participants. \n",
    "\n",
    "We start by loading MNIST dataset:"
   ]
  },
  {
   "cell_type": "code",
   "execution_count": null,
   "metadata": {
    "slideshow": {
     "slide_type": "slide"
    }
   },
   "outputs": [],
   "source": [
    "# If you are not running this notebook from a cloned repository, you may need to grab the binary dataset file first\n",
    "# !wget https://github.com/microsoft/AI-For-Beginners/blob/main/data/mnist.pkl.gz?raw=true\n",
    "# In this case correct the link to the dataset below as well.\n",
    "\n",
    "with gzip.open('../../data/mnist.pkl.gz', 'rb') as mnist_pickle:\n",
    "    MNIST = pickle.load(mnist_pickle)"
   ]
  },
  {
   "cell_type": "markdown",
   "metadata": {},
   "source": [
    "Let's now plot the dataset:"
   ]
  },
  {
   "cell_type": "code",
   "execution_count": null,
   "metadata": {
    "slideshow": {
     "slide_type": "slide"
    }
   },
   "outputs": [],
   "source": [
    "print(MNIST['Train']['Features'][0][130:180]) # 28x28 image\n",
    "print(MNIST['Train']['Labels'][0])\n",
    "features = MNIST['Train']['Features'].astype(np.float32) / 256.0\n",
    "labels = MNIST['Train']['Labels']\n",
    "fig = pylab.figure(figsize=(10,5))\n",
    "for i in range(10):\n",
    "    ax = fig.add_subplot(1,10,i+1)\n",
    "    pylab.imshow(features[i].reshape(28,28))\n",
    "pylab.show()"
   ]
  },
  {
   "cell_type": "markdown",
   "metadata": {},
   "source": [
    "Because perceptron is a binary classifier, we will limit our problem to recognizing only two digits. The function below will populate positive and negative sample arrays with two given digits (and will also show samples of those digits for clarity)."
   ]
  },
  {
   "cell_type": "code",
   "execution_count": null,
   "metadata": {
    "slideshow": {
     "slide_type": "slide"
    }
   },
   "outputs": [],
   "source": [
    "def set_mnist_pos_neg(positive_label, negative_label):\n",
    "    positive_indices = [i for i, j in enumerate(MNIST['Train']['Labels'])\n",
    "                        if j == positive_label]\n",
    "    negative_indices = [i for i, j in enumerate(MNIST['Train']['Labels'])\n",
    "                        if j == negative_label]\n",
    "    positive_images = MNIST['Train']['Features'][positive_indices]\n",
    "    negative_images = MNIST['Train']['Features'][negative_indices]\n",
    "\n",
    "    fig = pylab.figure()\n",
    "    ax = fig.add_subplot(1, 2, 1)\n",
    "    pylab.imshow(positive_images[10].reshape(\n",
    "        28, 28), cmap='gray', interpolation='nearest')\n",
    "    ax.set_xticks([])\n",
    "    ax.set_yticks([])\n",
    "    ax = fig.add_subplot(1, 2, 2)\n",
    "    pylab.imshow(negative_images[10].reshape(\n",
    "        28, 28), cmap='gray', interpolation='nearest')\n",
    "    ax.set_xticks([])\n",
    "    ax.set_yticks([])\n",
    "    pylab.show()\n",
    "\n",
    "    return positive_images, negative_images"
   ]
  },
  {
   "cell_type": "markdown",
   "metadata": {},
   "source": [
    "We will start by trying to classify between 0 and 1:"
   ]
  },
  {
   "cell_type": "code",
   "execution_count": null,
   "metadata": {
    "slideshow": {
     "slide_type": "slide"
    }
   },
   "outputs": [],
   "source": [
    "pos1,neg1 = set_mnist_pos_neg(1,0)"
   ]
  },
  {
   "cell_type": "code",
   "execution_count": null,
   "metadata": {
    "slideshow": {
     "slide_type": "skip"
    }
   },
   "outputs": [],
   "source": [
    "def plotit2(snapshots_mn,step):\n",
    "    fig = pylab.figure(figsize=(10,4))\n",
    "    ax = fig.add_subplot(1, 2, 1)\n",
    "    pylab.imshow(snapshots_mn[step][0].reshape(28, 28), interpolation='nearest')\n",
    "    ax.set_xticks([])\n",
    "    ax.set_yticks([])\n",
    "    pylab.colorbar()\n",
    "    ax = fig.add_subplot(1, 2, 2)\n",
    "    ax.set_ylim([0,1])\n",
    "    pylab.plot(np.arange(len(snapshots_mn[:,1])), snapshots_mn[:,1])\n",
    "    pylab.plot(step, snapshots_mn[step,1], \"bo\")\n",
    "    pylab.show()\n",
    "def pl3(step): plotit2(snapshots_mn,step)\n",
    "def pl4(step): plotit2(snapshots_mn2,step)    "
   ]
  },
  {
   "cell_type": "code",
   "execution_count": null,
   "metadata": {
    "slideshow": {
     "slide_type": "slide"
    }
   },
   "outputs": [],
   "source": [
    "snapshots_mn = train_graph(pos1,neg1,1000)\n",
    "interact(pl3, step=widgets.IntSlider(value=0, min=0, max=len(snapshots_mn) - 1))"
   ]
  },
  {
   "cell_type": "markdown",
   "metadata": {},
   "source": [
    "Please note how accuracy goes up to almost 100% very fast.\n",
    "\n",
    "Please, move the slider to some position towards the end of the training, and observe the weight matrix plotted on the left. This matrix will allow you to understand how perceptron actually works. You can see the high weight values in the middle of the field, which correspond to pixels that are typically present for digit 1, and low negative values by the sides, where parts of 0 digit are. So, if the digit presented to the perceptron is in fact 1, middle part of it will be mupliplied by high values, producing positive result. On the contrary, when perceptron observes 0, corresponding pixels will be multiplied by negative numbers.\n",
    "\n",
    "> You may notice that if we give our perceptron a digit 1 slightly shifted horizontally, so that its pixels occupy the place where there are vertical parts of 0, we may receive incorrect result. Since the nature of our MNIST dataset is such that all digits are centered and positioned properly, and perceptron relies on this to distinguish between digits.\n",
    "\n",
    "Now let's try different digits: "
   ]
  },
  {
   "cell_type": "code",
   "execution_count": null,
   "metadata": {
    "slideshow": {
     "slide_type": "slide"
    }
   },
   "outputs": [],
   "source": [
    "pos2,neg2 = set_mnist_pos_neg(2,5)"
   ]
  },
  {
   "cell_type": "code",
   "execution_count": null,
   "metadata": {
    "slideshow": {
     "slide_type": "slide"
    }
   },
   "outputs": [],
   "source": [
    "snapshots_mn2 = train_graph(pos2,neg2,1000)\n",
    "interact(pl4, step=widgets.IntSlider(value=0, min=0, max=len(snapshots_mn2) - 1))"
   ]
  },
  {
   "cell_type": "markdown",
   "metadata": {
    "slideshow": {
     "slide_type": "slide"
    }
   },
   "source": [
    "## Discussion\n",
    "\n",
    "For some reason, 2 and 5 are not as easily separable. Even though we get relatively high accuracy (above 85%), we can clearly see how perceptron stops learning at some point.\n",
    "\n",
    "To understand why this happens, we can try to use [Principal Component Analysis](https://en.wikipedia.org/wiki/Principal_component_analysis) (PCA). It is a machine learning technique used to lower the dimensionality of the input dataset, in such a way as to obtain the best separability between classes. \n",
    "\n",
    "In our case, an input image has 784 pixels (input features), and we want to use PCA to reduce the number of parameter to just 2, so that we can plot them on the graph. Those two parameters would be a linear combination of original features, and we can view this procedure as \"rotating\" our original 784-dimensional space and observing it's projection to our 2D-space, until we get the best view that separates the classes."
   ]
  },
  {
   "cell_type": "code",
   "execution_count": null,
   "metadata": {
    "slideshow": {
     "slide_type": "fragment"
    }
   },
   "outputs": [],
   "source": [
    "from sklearn.decomposition import PCA\n",
    "\n",
    "def pca_analysis(positive_label, negative_label):\n",
    "    positive_images, negative_images = set_mnist_pos_neg(positive_label, negative_label)\n",
    "    M = np.append(positive_images, negative_images, 0)\n",
    "\n",
    "    mypca = PCA(n_components=2)\n",
    "    mypca.fit(M)\n",
    "    \n",
    "    pos_points = mypca.transform(positive_images[:200])\n",
    "    neg_points = mypca.transform(negative_images[:200])\n",
    "\n",
    "    pylab.plot(pos_points[:,0], pos_points[:,1], 'bo')\n",
    "    pylab.plot(neg_points[:,0], neg_points[:,1], 'ro')"
   ]
  },
  {
   "cell_type": "code",
   "execution_count": null,
   "metadata": {
    "slideshow": {
     "slide_type": "slide"
    }
   },
   "outputs": [],
   "source": [
    "pca_analysis(1,0)"
   ]
  },
  {
   "cell_type": "code",
   "execution_count": null,
   "metadata": {
    "scrolled": false,
    "slideshow": {
     "slide_type": "slide"
    }
   },
   "outputs": [],
   "source": [
    "pca_analysis(2,5)"
   ]
  },
  {
   "cell_type": "markdown",
   "metadata": {
    "slideshow": {
     "slide_type": "slide"
    }
   },
   "source": [
    "As you can see, 0 and 1 can be clearly separated by a straight line. This indicates that in the original 784-dimensional space dots corresponding to digits are also linearly separable. In the case of 2 and 5, we cannot find the good projection that will separate the digits clearly, and thus there are some cases of wrong classification.\n",
    "\n",
    "> Later on this course we will learn how to create non-linear classifiers using Neural Networks, and how to deal with a problem of digits not being properly aligned. Very soon we will reach above 99% accuracy in MNIST digit classification, while classifying them into 10 different classes.\n",
    "\n",
    "## Takeaway\n",
    "\n",
    " * We have leart about the simplest neural network architecture - one-layer perceptron.\n",
    " * We have implemented the perceptron \"by hand\", using simple training procedure based on gradient descent\n",
    " * Despite simplicity, one-layered perceptron can solve rather complex problems of handwritten digit recognition\n",
    " * One-layered perceptron is a liner classifier, and thus it provides the same classification power as logistic regression.\n",
    " * In the sample space, perceptron can separate two classes of input data using hyperplane."
   ]
  },
  {
   "cell_type": "markdown",
   "metadata": {},
   "source": [
    "## Credits\n",
    "\n",
    "This notebook is a part of [AI for Beginners Curricula](http://github.com/microsoft/ai-for-beginners), and has been prepared by [Dmitry Soshnikov](http://soshnikov.com). It is inspired by Neural Network Workshop at Microsoft Research Cambridge. Some code and illustrative materials are taken from presentations by [Katja Hoffmann](https://www.microsoft.com/en-us/research/people/kahofman/), [Matthew Johnson](https://www.microsoft.com/en-us/research/people/matjoh/) and [Ryoto Tomioka](https://www.microsoft.com/en-us/research/people/ryoto/), and from [NeuroWorkshop](http://github.com/shwars/NeuroWorkshop) repository."
   ]
  }
 ],
 "metadata": {
  "celltoolbar": "Slideshow",
  "kernelspec": {
   "display_name": "ai4beg",
   "language": "python",
   "name": "python3"
  },
  "language_info": {
   "codemirror_mode": {
    "name": "ipython",
    "version": 3
   },
   "file_extension": ".py",
   "mimetype": "text/x-python",
   "name": "python",
   "nbconvert_exporter": "python",
   "pygments_lexer": "ipython3",
   "version": "3.10.13"
  },
  "livereveal": {
   "start_slideshow_at": "selected"
  }
 },
 "nbformat": 4,
 "nbformat_minor": 2
}
